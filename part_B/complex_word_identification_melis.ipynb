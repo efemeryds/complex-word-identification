{
 "cells": [
  {
   "cell_type": "markdown",
   "id": "7c3f8bff",
   "metadata": {},
   "source": [
    "# PART B:  Understanding the task of complex word identification\n",
    "\n",
    "### Description\n",
    "\n",
    "The English dataset consists of mixture of professionally written news, non-professionally written news (WikiNews), and Wikipedia articles. Spanish and German datasets contain data taken from Spanish and German Wikipedia pages. The French dataset contains data taken from French Wikipedia pages. Each sentence in the English dataset was annotated by 10 native and 10 non-native speakers. Annotators were provided with the surrounding context of each sentence, i.e. a paragraph, then asked to mark words they think would be difficult to understand for children, non-native speakers, and people with language disabilities.\n",
    "\n",
    "### Data Format\n",
    "`<ID> Both China and the Philippines flexed their muscles on Wednesday. 31 51 flexed their muscles 10 10 3 2 1 0.25\n",
    "<ID> Both China and the Philippines flexed their muscles on Wednesday. 31 37 flexed 10 10 2 6 1 0.4\n",
    "<ID> Both China and the Philippines flexed their muscles on Wednesday. 44 51 muscles 10 10 0 0 0 0.0`\n",
    "\n",
    "Each line represents a sentence with one complex word annotation and relevant information, each separated by a TAB character.\n",
    "\n",
    "    The first column shows the HIT ID of the sentence. All sentences with the same ID belong to the same HIT.\n",
    "    The second column shows the actual sentence where there exists a complex phrase annotation.\n",
    "    The third and fourth columns display the start and end offsets of the target word in this sentence.\n",
    "    The fifth column represents the target word.\n",
    "    The sixth and seventh columns show the number of native annotators and the number of non-native annotators who saw the sentence.\n",
    "    The eighth and ninth columns show the number of native annotators and the number of non-native annotators who marked the target word as difficult.\n",
    "    The tenth and eleventh columns show the gold-standard label for the binary and probabilistic classification tasks.\n",
    "\n",
    "The labels in the binary classification task were assigned in the following manner:\n",
    "\n",
    "    0: *simple* word (none of the annotators marked the word as difficult)\n",
    "    1: *complex* word (at least one annotator marked the word as difficult)\n",
    "\n",
    "The labels in the probabilistic classification task were assigned as `<the number of annotators who marked the word as difficult>/<the total number of annotators>`."
   ]
  },
  {
   "cell_type": "code",
   "execution_count": 1,
   "id": "eb5e9fed",
   "metadata": {},
   "outputs": [],
   "source": [
    "import pandas as pd\n",
    "import spacy\n",
    "import numpy as np\n",
    "import matplotlib.pyplot as plt\n",
    "import seaborn as sns\n",
    "from collections import Counter"
   ]
  },
  {
   "cell_type": "code",
   "execution_count": 2,
   "id": "31beef90",
   "metadata": {
    "scrolled": true
   },
   "outputs": [
    {
     "data": {
      "text/html": [
       "<div>\n",
       "<style scoped>\n",
       "    .dataframe tbody tr th:only-of-type {\n",
       "        vertical-align: middle;\n",
       "    }\n",
       "\n",
       "    .dataframe tbody tr th {\n",
       "        vertical-align: top;\n",
       "    }\n",
       "\n",
       "    .dataframe thead th {\n",
       "        text-align: right;\n",
       "    }\n",
       "</style>\n",
       "<table border=\"1\" class=\"dataframe\">\n",
       "  <thead>\n",
       "    <tr style=\"text-align: right;\">\n",
       "      <th></th>\n",
       "      <th>id</th>\n",
       "      <th>sentence</th>\n",
       "      <th>start</th>\n",
       "      <th>end</th>\n",
       "      <th>trgt</th>\n",
       "      <th>nat_ann</th>\n",
       "      <th>nonnat_ann</th>\n",
       "      <th>nat_diff</th>\n",
       "      <th>non_diff</th>\n",
       "      <th>label</th>\n",
       "      <th>prob</th>\n",
       "    </tr>\n",
       "  </thead>\n",
       "  <tbody>\n",
       "    <tr>\n",
       "      <th>0</th>\n",
       "      <td>3P7RGTLO6EE07HLUVDKKHS6O7CCKA5</td>\n",
       "      <td>The barren islands, reefs and coral outcrops a...</td>\n",
       "      <td>4</td>\n",
       "      <td>10</td>\n",
       "      <td>barren</td>\n",
       "      <td>10</td>\n",
       "      <td>10</td>\n",
       "      <td>6</td>\n",
       "      <td>2</td>\n",
       "      <td>1</td>\n",
       "      <td>0.40</td>\n",
       "    </tr>\n",
       "    <tr>\n",
       "      <th>1</th>\n",
       "      <td>3P7RGTLO6EE07HLUVDKKHS6O7CCKA5</td>\n",
       "      <td>The barren islands, reefs and coral outcrops a...</td>\n",
       "      <td>4</td>\n",
       "      <td>18</td>\n",
       "      <td>barren islands</td>\n",
       "      <td>10</td>\n",
       "      <td>10</td>\n",
       "      <td>0</td>\n",
       "      <td>1</td>\n",
       "      <td>1</td>\n",
       "      <td>0.05</td>\n",
       "    </tr>\n",
       "    <tr>\n",
       "      <th>2</th>\n",
       "      <td>3P7RGTLO6EE07HLUVDKKHS6O7CCKA5</td>\n",
       "      <td>The barren islands, reefs and coral outcrops a...</td>\n",
       "      <td>20</td>\n",
       "      <td>25</td>\n",
       "      <td>reefs</td>\n",
       "      <td>10</td>\n",
       "      <td>10</td>\n",
       "      <td>1</td>\n",
       "      <td>2</td>\n",
       "      <td>1</td>\n",
       "      <td>0.15</td>\n",
       "    </tr>\n",
       "    <tr>\n",
       "      <th>3</th>\n",
       "      <td>3P7RGTLO6EE07HLUVDKKHS6O7CCKA5</td>\n",
       "      <td>The barren islands, reefs and coral outcrops a...</td>\n",
       "      <td>11</td>\n",
       "      <td>18</td>\n",
       "      <td>islands</td>\n",
       "      <td>10</td>\n",
       "      <td>10</td>\n",
       "      <td>0</td>\n",
       "      <td>0</td>\n",
       "      <td>0</td>\n",
       "      <td>0.00</td>\n",
       "    </tr>\n",
       "    <tr>\n",
       "      <th>4</th>\n",
       "      <td>3P7RGTLO6EE07HLUVDKKHS6O7CCKA5</td>\n",
       "      <td>The barren islands, reefs and coral outcrops a...</td>\n",
       "      <td>30</td>\n",
       "      <td>35</td>\n",
       "      <td>coral</td>\n",
       "      <td>10</td>\n",
       "      <td>10</td>\n",
       "      <td>0</td>\n",
       "      <td>0</td>\n",
       "      <td>0</td>\n",
       "      <td>0.00</td>\n",
       "    </tr>\n",
       "  </tbody>\n",
       "</table>\n",
       "</div>"
      ],
      "text/plain": [
       "                               id  \\\n",
       "0  3P7RGTLO6EE07HLUVDKKHS6O7CCKA5   \n",
       "1  3P7RGTLO6EE07HLUVDKKHS6O7CCKA5   \n",
       "2  3P7RGTLO6EE07HLUVDKKHS6O7CCKA5   \n",
       "3  3P7RGTLO6EE07HLUVDKKHS6O7CCKA5   \n",
       "4  3P7RGTLO6EE07HLUVDKKHS6O7CCKA5   \n",
       "\n",
       "                                            sentence  start  end  \\\n",
       "0  The barren islands, reefs and coral outcrops a...      4   10   \n",
       "1  The barren islands, reefs and coral outcrops a...      4   18   \n",
       "2  The barren islands, reefs and coral outcrops a...     20   25   \n",
       "3  The barren islands, reefs and coral outcrops a...     11   18   \n",
       "4  The barren islands, reefs and coral outcrops a...     30   35   \n",
       "\n",
       "             trgt  nat_ann  nonnat_ann  nat_diff  non_diff  label  prob  \n",
       "0          barren       10          10         6         2      1  0.40  \n",
       "1  barren islands       10          10         0         1      1  0.05  \n",
       "2           reefs       10          10         1         2      1  0.15  \n",
       "3         islands       10          10         0         0      0  0.00  \n",
       "4           coral       10          10         0         0      0  0.00  "
      ]
     },
     "execution_count": 2,
     "metadata": {},
     "output_type": "execute_result"
    }
   ],
   "source": [
    "df = pd.read_csv('../datas/News_Train.tsv', sep='\\t',header=None)\n",
    "\n",
    "data = df.set_axis(['id','sentence','start','end','trgt','nat_ann','nonnat_ann','nat_diff','non_diff','label','prob'],\n",
    "                  axis=1, inplace=False)\n",
    "\n",
    "data.head()"
   ]
  },
  {
   "cell_type": "code",
   "execution_count": 3,
   "id": "110171f4",
   "metadata": {},
   "outputs": [
    {
     "data": {
      "text/plain": [
       "0        1\n",
       "1        1\n",
       "2        1\n",
       "3        0\n",
       "4        0\n",
       "        ..\n",
       "13997    1\n",
       "13998    0\n",
       "13999    0\n",
       "14000    0\n",
       "14001    0\n",
       "Name: label, Length: 14002, dtype: int64"
      ]
     },
     "execution_count": 3,
     "metadata": {},
     "output_type": "execute_result"
    }
   ],
   "source": [
    "data['label']"
   ]
  },
  {
   "cell_type": "code",
   "execution_count": 4,
   "id": "66e297fa",
   "metadata": {},
   "outputs": [
    {
     "name": "stdout",
     "output_type": "stream",
     "text": [
      "8459\n"
     ]
    }
   ],
   "source": [
    "label_zero = data[(data[\"label\"] == 0)]\n",
    "num_of_inst_0 = len(label_zero)\n",
    "print(num_of_inst_0)"
   ]
  },
  {
   "cell_type": "code",
   "execution_count": 5,
   "id": "2f66085c",
   "metadata": {},
   "outputs": [
    {
     "name": "stdout",
     "output_type": "stream",
     "text": [
      "5543\n"
     ]
    }
   ],
   "source": [
    "label_one = data[(data[\"label\"] == 1)]\n",
    "num_of_inst_1 = len(label_one)\n",
    "print(num_of_inst_1)"
   ]
  },
  {
   "cell_type": "code",
   "execution_count": 6,
   "id": "c5e7481e",
   "metadata": {},
   "outputs": [
    {
     "data": {
      "text/html": [
       "<div>\n",
       "<style scoped>\n",
       "    .dataframe tbody tr th:only-of-type {\n",
       "        vertical-align: middle;\n",
       "    }\n",
       "\n",
       "    .dataframe tbody tr th {\n",
       "        vertical-align: top;\n",
       "    }\n",
       "\n",
       "    .dataframe thead th {\n",
       "        text-align: right;\n",
       "    }\n",
       "</style>\n",
       "<table border=\"1\" class=\"dataframe\">\n",
       "  <thead>\n",
       "    <tr style=\"text-align: right;\">\n",
       "      <th></th>\n",
       "      <th>start</th>\n",
       "      <th>end</th>\n",
       "      <th>nat_ann</th>\n",
       "      <th>nonnat_ann</th>\n",
       "      <th>nat_diff</th>\n",
       "      <th>non_diff</th>\n",
       "      <th>label</th>\n",
       "      <th>prob</th>\n",
       "    </tr>\n",
       "  </thead>\n",
       "  <tbody>\n",
       "    <tr>\n",
       "      <th>count</th>\n",
       "      <td>14002.000000</td>\n",
       "      <td>14002.000000</td>\n",
       "      <td>14002.0</td>\n",
       "      <td>14002.0</td>\n",
       "      <td>14002.000000</td>\n",
       "      <td>14002.000000</td>\n",
       "      <td>14002.000000</td>\n",
       "      <td>14002.000000</td>\n",
       "    </tr>\n",
       "    <tr>\n",
       "      <th>mean</th>\n",
       "      <td>83.727753</td>\n",
       "      <td>92.100486</td>\n",
       "      <td>10.0</td>\n",
       "      <td>10.0</td>\n",
       "      <td>0.902014</td>\n",
       "      <td>0.860591</td>\n",
       "      <td>0.395872</td>\n",
       "      <td>0.088130</td>\n",
       "    </tr>\n",
       "    <tr>\n",
       "      <th>std</th>\n",
       "      <td>66.602408</td>\n",
       "      <td>66.819266</td>\n",
       "      <td>0.0</td>\n",
       "      <td>0.0</td>\n",
       "      <td>1.949611</td>\n",
       "      <td>1.894848</td>\n",
       "      <td>0.489055</td>\n",
       "      <td>0.181183</td>\n",
       "    </tr>\n",
       "    <tr>\n",
       "      <th>min</th>\n",
       "      <td>0.000000</td>\n",
       "      <td>2.000000</td>\n",
       "      <td>10.0</td>\n",
       "      <td>10.0</td>\n",
       "      <td>0.000000</td>\n",
       "      <td>0.000000</td>\n",
       "      <td>0.000000</td>\n",
       "      <td>0.000000</td>\n",
       "    </tr>\n",
       "    <tr>\n",
       "      <th>25%</th>\n",
       "      <td>32.000000</td>\n",
       "      <td>40.000000</td>\n",
       "      <td>10.0</td>\n",
       "      <td>10.0</td>\n",
       "      <td>0.000000</td>\n",
       "      <td>0.000000</td>\n",
       "      <td>0.000000</td>\n",
       "      <td>0.000000</td>\n",
       "    </tr>\n",
       "    <tr>\n",
       "      <th>50%</th>\n",
       "      <td>71.000000</td>\n",
       "      <td>79.000000</td>\n",
       "      <td>10.0</td>\n",
       "      <td>10.0</td>\n",
       "      <td>0.000000</td>\n",
       "      <td>0.000000</td>\n",
       "      <td>0.000000</td>\n",
       "      <td>0.000000</td>\n",
       "    </tr>\n",
       "    <tr>\n",
       "      <th>75%</th>\n",
       "      <td>120.000000</td>\n",
       "      <td>129.000000</td>\n",
       "      <td>10.0</td>\n",
       "      <td>10.0</td>\n",
       "      <td>1.000000</td>\n",
       "      <td>1.000000</td>\n",
       "      <td>1.000000</td>\n",
       "      <td>0.100000</td>\n",
       "    </tr>\n",
       "    <tr>\n",
       "      <th>max</th>\n",
       "      <td>647.000000</td>\n",
       "      <td>656.000000</td>\n",
       "      <td>10.0</td>\n",
       "      <td>10.0</td>\n",
       "      <td>10.000000</td>\n",
       "      <td>10.000000</td>\n",
       "      <td>1.000000</td>\n",
       "      <td>1.000000</td>\n",
       "    </tr>\n",
       "  </tbody>\n",
       "</table>\n",
       "</div>"
      ],
      "text/plain": [
       "              start           end  nat_ann  nonnat_ann      nat_diff  \\\n",
       "count  14002.000000  14002.000000  14002.0     14002.0  14002.000000   \n",
       "mean      83.727753     92.100486     10.0        10.0      0.902014   \n",
       "std       66.602408     66.819266      0.0         0.0      1.949611   \n",
       "min        0.000000      2.000000     10.0        10.0      0.000000   \n",
       "25%       32.000000     40.000000     10.0        10.0      0.000000   \n",
       "50%       71.000000     79.000000     10.0        10.0      0.000000   \n",
       "75%      120.000000    129.000000     10.0        10.0      1.000000   \n",
       "max      647.000000    656.000000     10.0        10.0     10.000000   \n",
       "\n",
       "           non_diff         label          prob  \n",
       "count  14002.000000  14002.000000  14002.000000  \n",
       "mean       0.860591      0.395872      0.088130  \n",
       "std        1.894848      0.489055      0.181183  \n",
       "min        0.000000      0.000000      0.000000  \n",
       "25%        0.000000      0.000000      0.000000  \n",
       "50%        0.000000      0.000000      0.000000  \n",
       "75%        1.000000      1.000000      0.100000  \n",
       "max       10.000000      1.000000      1.000000  "
      ]
     },
     "execution_count": 6,
     "metadata": {},
     "output_type": "execute_result"
    }
   ],
   "source": [
    "data.describe()"
   ]
  },
  {
   "cell_type": "markdown",
   "id": "1ceb02cf",
   "metadata": {},
   "source": [
    "### Min, max, median, mean, and stdev of the probabilistic label"
   ]
  },
  {
   "cell_type": "code",
   "execution_count": 7,
   "id": "8d4c9c9a",
   "metadata": {},
   "outputs": [],
   "source": [
    "min_prob_label = data[\"prob\"].min()\n",
    "max_prob_label = data[\"prob\"].max()\n",
    "mean_prob_label = data[\"prob\"].mean()\n",
    "median_prob_label = data[\"prob\"].median()\n",
    "std_prob_label = data[\"prob\"].std()"
   ]
  },
  {
   "cell_type": "code",
   "execution_count": 8,
   "id": "5dd201e3",
   "metadata": {},
   "outputs": [
    {
     "data": {
      "text/plain": [
       "0                  barren\n",
       "1          barren islands\n",
       "2                   reefs\n",
       "3                 islands\n",
       "4                   coral\n",
       "               ...       \n",
       "13997    security partner\n",
       "13998            security\n",
       "13999             partner\n",
       "14000              troops\n",
       "14001                home\n",
       "Name: trgt, Length: 14002, dtype: object"
      ]
     },
     "execution_count": 8,
     "metadata": {},
     "output_type": "execute_result"
    }
   ],
   "source": [
    "data['trgt']"
   ]
  },
  {
   "cell_type": "markdown",
   "id": "828c6fb3",
   "metadata": {},
   "source": [
    " ### Number of instances consisting of more than one token"
   ]
  },
  {
   "cell_type": "code",
   "execution_count": 9,
   "id": "8bb00687",
   "metadata": {},
   "outputs": [
    {
     "name": "stdout",
     "output_type": "stream",
     "text": [
      "Number of instances consisting of more than one token :  1624\n"
     ]
    }
   ],
   "source": [
    "nlp = spacy.load(\"en_core_web_sm\")\n",
    "\n",
    "num_inst_mor_one_token = 0\n",
    "\n",
    "for row in range(len(data)):\n",
    "    doc = nlp(data.loc[row, \"trgt\"])\n",
    "    for np in doc.noun_chunks:\n",
    "        if len(np) > 1:\n",
    "            num_inst_mor_one_token += 1\n",
    "\n",
    "print(\"Number of instances consisting of more than one token : \",num_inst_mor_one_token) # 1624"
   ]
  },
  {
   "cell_type": "markdown",
   "id": "5b7799ac",
   "metadata": {},
   "source": [
    "### Maximum number of tokens for an instance"
   ]
  },
  {
   "cell_type": "code",
   "execution_count": 10,
   "id": "a0e28f75",
   "metadata": {},
   "outputs": [
    {
     "name": "stdout",
     "output_type": "stream",
     "text": [
      "Maximum number of tokens for an instance :  7\n",
      "The maximum token instance :  state-owned RIA Novosti news agency\n"
     ]
    }
   ],
   "source": [
    "max_num_of_tokens = 0\n",
    "maximum_token = ''\n",
    "\n",
    "for row in range(len(data)):\n",
    "    doc = nlp(data.loc[row, \"trgt\"])\n",
    "    for np in doc.noun_chunks:\n",
    "        if len(np) > max_num_of_tokens:\n",
    "            max_num_of_tokens = len(np)\n",
    "            maximum_token = np.text\n",
    "\n",
    "print(\"Maximum number of tokens for an instance : \",max_num_of_tokens) # 7\n",
    "print(\"The maximum token instance : \",maximum_token) # state-owned RIA Novosti news agency"
   ]
  },
  {
   "cell_type": "markdown",
   "id": "1b0b91dd",
   "metadata": {},
   "source": [
    "# 8.Explore linguistic characteristics\n",
    "For simplicity, we will focus on the instances which consist only of a **single token** and have been labeled as **complex** by at least one annotator. Calculate the length of the tokens as the number of characters. Calculate the frequency of the tokens using the `wordfreq` package."
   ]
  },
  {
   "cell_type": "code",
   "execution_count": 11,
   "id": "57a8ee3b",
   "metadata": {},
   "outputs": [
    {
     "name": "stdout",
     "output_type": "stream",
     "text": [
      "The length of the tokens: 78330\n"
     ]
    }
   ],
   "source": [
    "total_tokens_length = 0\n",
    "\n",
    "for row in range(len(data)):\n",
    "    doc = nlp(data.loc[row, \"trgt\"])\n",
    "    for np in doc.noun_chunks:\n",
    "        total_tokens_length += len(np.text)\n",
    "\n",
    "print(\"The length of the tokens:\", total_tokens_length) # 78330"
   ]
  },
  {
   "cell_type": "code",
   "execution_count": 12,
   "id": "9489e7a2",
   "metadata": {},
   "outputs": [
    {
     "data": {
      "text/html": [
       "<div>\n",
       "<style scoped>\n",
       "    .dataframe tbody tr th:only-of-type {\n",
       "        vertical-align: middle;\n",
       "    }\n",
       "\n",
       "    .dataframe tbody tr th {\n",
       "        vertical-align: top;\n",
       "    }\n",
       "\n",
       "    .dataframe thead th {\n",
       "        text-align: right;\n",
       "    }\n",
       "</style>\n",
       "<table border=\"1\" class=\"dataframe\">\n",
       "  <thead>\n",
       "    <tr style=\"text-align: right;\">\n",
       "      <th></th>\n",
       "      <th>tokens</th>\n",
       "      <th>probability</th>\n",
       "    </tr>\n",
       "  </thead>\n",
       "  <tbody>\n",
       "    <tr>\n",
       "      <th>0</th>\n",
       "      <td>barren</td>\n",
       "      <td>0.40</td>\n",
       "    </tr>\n",
       "    <tr>\n",
       "      <th>1</th>\n",
       "      <td>barren islands</td>\n",
       "      <td>0.05</td>\n",
       "    </tr>\n",
       "    <tr>\n",
       "      <th>2</th>\n",
       "      <td>reefs</td>\n",
       "      <td>0.15</td>\n",
       "    </tr>\n",
       "    <tr>\n",
       "      <th>5</th>\n",
       "      <td>coral outcrops</td>\n",
       "      <td>0.10</td>\n",
       "    </tr>\n",
       "    <tr>\n",
       "      <th>6</th>\n",
       "      <td>outcrops</td>\n",
       "      <td>0.55</td>\n",
       "    </tr>\n",
       "    <tr>\n",
       "      <th>...</th>\n",
       "      <td>...</td>\n",
       "      <td>...</td>\n",
       "    </tr>\n",
       "    <tr>\n",
       "      <th>13979</th>\n",
       "      <td>analyst</td>\n",
       "      <td>0.10</td>\n",
       "    </tr>\n",
       "    <tr>\n",
       "      <th>13981</th>\n",
       "      <td>Council on Foreign Relations</td>\n",
       "      <td>0.05</td>\n",
       "    </tr>\n",
       "    <tr>\n",
       "      <th>13986</th>\n",
       "      <td>hard pressed</td>\n",
       "      <td>0.45</td>\n",
       "    </tr>\n",
       "    <tr>\n",
       "      <th>13988</th>\n",
       "      <td>convince</td>\n",
       "      <td>0.05</td>\n",
       "    </tr>\n",
       "    <tr>\n",
       "      <th>13997</th>\n",
       "      <td>security partner</td>\n",
       "      <td>0.10</td>\n",
       "    </tr>\n",
       "  </tbody>\n",
       "</table>\n",
       "<p>5543 rows × 2 columns</p>\n",
       "</div>"
      ],
      "text/plain": [
       "                             tokens  probability\n",
       "0                            barren         0.40\n",
       "1                    barren islands         0.05\n",
       "2                             reefs         0.15\n",
       "5                    coral outcrops         0.10\n",
       "6                          outcrops         0.55\n",
       "...                             ...          ...\n",
       "13979                       analyst         0.10\n",
       "13981  Council on Foreign Relations         0.05\n",
       "13986                  hard pressed         0.45\n",
       "13988                      convince         0.05\n",
       "13997              security partner         0.10\n",
       "\n",
       "[5543 rows x 2 columns]"
      ]
     },
     "execution_count": 12,
     "metadata": {},
     "output_type": "execute_result"
    }
   ],
   "source": [
    "new_df = pd.DataFrame()\n",
    "new_df['tokens'] = data['trgt'][data['label']==1]  # single token which labeled as complex(1)\n",
    "new_df['probability'] = data['prob'][data['label']==1] # prob of tokens which labeled as complex(1)\n",
    "new_df"
   ]
  },
  {
   "cell_type": "code",
   "execution_count": 13,
   "id": "bf371d3c",
   "metadata": {},
   "outputs": [
    {
     "name": "stdout",
     "output_type": "stream",
     "text": [
      "[('barren', 0.4), ('barren islands', 0.05), ('reefs', 0.15), ('coral outcrops', 0.1), ('outcrops', 0.55), ('overlapping', 0.4), ('overlapping claims', 0.2), ('flashpoint', 0.8), ('armed conflict', 0.1), ('conflict', 0.1)]\n"
     ]
    }
   ],
   "source": [
    "prob_of_token_list = []\n",
    "\n",
    "for i in range(len(new_df)):\n",
    "    prob_of_token_list.append((new_df['tokens'].iloc[i], new_df['probability'].iloc[i]))\n",
    "\n",
    "\n",
    "print(prob_of_token_list[:10])"
   ]
  },
  {
   "cell_type": "code",
   "execution_count": 14,
   "id": "7a9de9c8",
   "metadata": {},
   "outputs": [],
   "source": [
    "from wordfreq import zipf_frequency, word_frequency"
   ]
  },
  {
   "cell_type": "code",
   "execution_count": 16,
   "id": "725102a2",
   "metadata": {},
   "outputs": [
    {
     "name": "stdout",
     "output_type": "stream",
     "text": [
      "[('barren', 3.4), ('outcrops', 0.0), ('conflict', 4.64), ('flexed', 0.0), ('ambassador', 4.35), ('sovereignty', 3.86), ('vessels', 4.2), ('shoal', 0.0), ('condition', 4.86), ('anonymity', 3.39)]\n",
      "\n",
      "\n",
      "Frequency of single complex tokens :  [3.4, 0.0, 4.64, 0.0, 4.35, 3.86, 4.2, 0.0, 4.86, 3.39]\n",
      "\n",
      "\n",
      "The single tokens :  ['barren', 'outcrops', 'conflict', 'flexed', 'ambassador', 'sovereignty', 'vessels', 'shoal', 'condition', 'anonymity', 'anonymity', 'lack', 'authority', 'authority', 'standoff']\n"
     ]
    }
   ],
   "source": [
    "frequency_of_tokens = {}\n",
    "freq_list = []\n",
    "single_tokens= []\n",
    "\n",
    "for row in range(len(new_df)):\n",
    "    doc = nlp(new_df[\"tokens\"].iloc[row])\n",
    "    for np in doc.noun_chunks:\n",
    "        if len(np) == 1:\n",
    "            frequency = zipf_frequency(np.text, 'en', wordlist='small')\n",
    "            frequency_of_tokens.update({np.text: frequency})\n",
    "            freq_list.append(frequency)\n",
    "            single_tokens.append(np.text)\n",
    "            \n",
    "        \n",
    "print(list(frequency_of_tokens.items())[:10])\n",
    "print(\"\\n\")\n",
    "print(\"Frequency of single complex tokens : \",freq_list[:10])\n",
    "print(\"\\n\")\n",
    "print(\"The single tokens : \",single_tokens[:15])\n"
   ]
  },
  {
   "cell_type": "code",
   "execution_count": 17,
   "id": "a49b9d0a",
   "metadata": {},
   "outputs": [
    {
     "name": "stdout",
     "output_type": "stream",
     "text": [
      "[0.4, 0.55, 0.1, 0.4, 0.15, 0.95, 0.35, 0.5, 0.7, 0.2]\n",
      "2102\n",
      "['barren', 'outcrops', 'conflict', 'flexed', 'ambassador', 'sovereignty', 'vessels', 'shoal', 'anonymity', 'authority']\n",
      "2102\n",
      "[3.4, 0.0, 4.64, 0.0, 4.35, 3.86, 4.2, 0.0, 3.39, 4.81]\n",
      "2102\n"
     ]
    }
   ],
   "source": [
    "probi_list = []\n",
    "item_list = []\n",
    "freq_list=[]\n",
    "\n",
    "for item,value in prob_of_token_list:\n",
    "    for key,val in frequency_of_tokens.items():\n",
    "        if item == key :\n",
    "            probi_list.append(value)\n",
    "            item_list.append(item)\n",
    "            freq_list.append(val)\n",
    "            \n",
    "        \n",
    "print(probi_list[:10])\n",
    "print(len(probi_list))\n",
    "print(item_list[:10])\n",
    "print(len(item_list))\n",
    "print(freq_list[:10])\n",
    "print(len(freq_list))"
   ]
  },
  {
   "cell_type": "code",
   "execution_count": 18,
   "id": "8f6d02ea",
   "metadata": {},
   "outputs": [
    {
     "data": {
      "text/html": [
       "<div>\n",
       "<style scoped>\n",
       "    .dataframe tbody tr th:only-of-type {\n",
       "        vertical-align: middle;\n",
       "    }\n",
       "\n",
       "    .dataframe tbody tr th {\n",
       "        vertical-align: top;\n",
       "    }\n",
       "\n",
       "    .dataframe thead th {\n",
       "        text-align: right;\n",
       "    }\n",
       "</style>\n",
       "<table border=\"1\" class=\"dataframe\">\n",
       "  <thead>\n",
       "    <tr style=\"text-align: right;\">\n",
       "      <th></th>\n",
       "      <th>tokens</th>\n",
       "      <th>frequency</th>\n",
       "      <th>comp_prob</th>\n",
       "    </tr>\n",
       "  </thead>\n",
       "  <tbody>\n",
       "    <tr>\n",
       "      <th>0</th>\n",
       "      <td>barren</td>\n",
       "      <td>3.40</td>\n",
       "      <td>0.40</td>\n",
       "    </tr>\n",
       "    <tr>\n",
       "      <th>1</th>\n",
       "      <td>outcrops</td>\n",
       "      <td>0.00</td>\n",
       "      <td>0.55</td>\n",
       "    </tr>\n",
       "    <tr>\n",
       "      <th>2</th>\n",
       "      <td>conflict</td>\n",
       "      <td>4.64</td>\n",
       "      <td>0.10</td>\n",
       "    </tr>\n",
       "    <tr>\n",
       "      <th>3</th>\n",
       "      <td>flexed</td>\n",
       "      <td>0.00</td>\n",
       "      <td>0.40</td>\n",
       "    </tr>\n",
       "    <tr>\n",
       "      <th>4</th>\n",
       "      <td>ambassador</td>\n",
       "      <td>4.35</td>\n",
       "      <td>0.15</td>\n",
       "    </tr>\n",
       "    <tr>\n",
       "      <th>...</th>\n",
       "      <td>...</td>\n",
       "      <td>...</td>\n",
       "      <td>...</td>\n",
       "    </tr>\n",
       "    <tr>\n",
       "      <th>2097</th>\n",
       "      <td>shore</td>\n",
       "      <td>4.33</td>\n",
       "      <td>0.10</td>\n",
       "    </tr>\n",
       "    <tr>\n",
       "      <th>2098</th>\n",
       "      <td>credentials</td>\n",
       "      <td>3.74</td>\n",
       "      <td>0.45</td>\n",
       "    </tr>\n",
       "    <tr>\n",
       "      <th>2099</th>\n",
       "      <td>opponent</td>\n",
       "      <td>4.20</td>\n",
       "      <td>0.05</td>\n",
       "    </tr>\n",
       "    <tr>\n",
       "      <th>2100</th>\n",
       "      <td>analyst</td>\n",
       "      <td>4.03</td>\n",
       "      <td>0.10</td>\n",
       "    </tr>\n",
       "    <tr>\n",
       "      <th>2101</th>\n",
       "      <td>convince</td>\n",
       "      <td>4.26</td>\n",
       "      <td>0.05</td>\n",
       "    </tr>\n",
       "  </tbody>\n",
       "</table>\n",
       "<p>2102 rows × 3 columns</p>\n",
       "</div>"
      ],
      "text/plain": [
       "           tokens  frequency  comp_prob\n",
       "0          barren       3.40       0.40\n",
       "1        outcrops       0.00       0.55\n",
       "2        conflict       4.64       0.10\n",
       "3          flexed       0.00       0.40\n",
       "4      ambassador       4.35       0.15\n",
       "...           ...        ...        ...\n",
       "2097        shore       4.33       0.10\n",
       "2098  credentials       3.74       0.45\n",
       "2099     opponent       4.20       0.05\n",
       "2100      analyst       4.03       0.10\n",
       "2101     convince       4.26       0.05\n",
       "\n",
       "[2102 rows x 3 columns]"
      ]
     },
     "execution_count": 18,
     "metadata": {},
     "output_type": "execute_result"
    }
   ],
   "source": [
    "df = pd.DataFrame()\n",
    "df['tokens'] = item_list # single token which labeled as complex(1)\n",
    "df['frequency'] = freq_list\n",
    "df['comp_prob'] = probi_list\n",
    "df"
   ]
  },
  {
   "cell_type": "code",
   "execution_count": 19,
   "id": "92142d50",
   "metadata": {},
   "outputs": [
    {
     "name": "stdout",
     "output_type": "stream",
     "text": [
      "[6, 8, 8, 6, 10, 11, 7, 5, 9, 9]\n"
     ]
    }
   ],
   "source": [
    "token_length_each = []\n",
    "tokens_each = []\n",
    "\n",
    "for row in range(len(df)):\n",
    "    doc = nlp(df.loc[row, \"tokens\"])\n",
    "    for token in doc:\n",
    "        tokens_each.append(token.text)\n",
    "        token_length_each.append(len(token.text))\n",
    "        \n",
    "print(token_length_each[:10])"
   ]
  },
  {
   "cell_type": "code",
   "execution_count": 20,
   "id": "f2b5c89f",
   "metadata": {},
   "outputs": [
    {
     "data": {
      "text/html": [
       "<div>\n",
       "<style scoped>\n",
       "    .dataframe tbody tr th:only-of-type {\n",
       "        vertical-align: middle;\n",
       "    }\n",
       "\n",
       "    .dataframe tbody tr th {\n",
       "        vertical-align: top;\n",
       "    }\n",
       "\n",
       "    .dataframe thead th {\n",
       "        text-align: right;\n",
       "    }\n",
       "</style>\n",
       "<table border=\"1\" class=\"dataframe\">\n",
       "  <thead>\n",
       "    <tr style=\"text-align: right;\">\n",
       "      <th></th>\n",
       "      <th>tokens</th>\n",
       "      <th>frequency</th>\n",
       "      <th>comp_prob</th>\n",
       "      <th>length</th>\n",
       "    </tr>\n",
       "  </thead>\n",
       "  <tbody>\n",
       "    <tr>\n",
       "      <th>0</th>\n",
       "      <td>barren</td>\n",
       "      <td>3.40</td>\n",
       "      <td>0.40</td>\n",
       "      <td>6</td>\n",
       "    </tr>\n",
       "    <tr>\n",
       "      <th>1</th>\n",
       "      <td>outcrops</td>\n",
       "      <td>0.00</td>\n",
       "      <td>0.55</td>\n",
       "      <td>8</td>\n",
       "    </tr>\n",
       "    <tr>\n",
       "      <th>2</th>\n",
       "      <td>conflict</td>\n",
       "      <td>4.64</td>\n",
       "      <td>0.10</td>\n",
       "      <td>8</td>\n",
       "    </tr>\n",
       "    <tr>\n",
       "      <th>3</th>\n",
       "      <td>flexed</td>\n",
       "      <td>0.00</td>\n",
       "      <td>0.40</td>\n",
       "      <td>6</td>\n",
       "    </tr>\n",
       "    <tr>\n",
       "      <th>4</th>\n",
       "      <td>ambassador</td>\n",
       "      <td>4.35</td>\n",
       "      <td>0.15</td>\n",
       "      <td>10</td>\n",
       "    </tr>\n",
       "    <tr>\n",
       "      <th>...</th>\n",
       "      <td>...</td>\n",
       "      <td>...</td>\n",
       "      <td>...</td>\n",
       "      <td>...</td>\n",
       "    </tr>\n",
       "    <tr>\n",
       "      <th>2097</th>\n",
       "      <td>shore</td>\n",
       "      <td>4.33</td>\n",
       "      <td>0.10</td>\n",
       "      <td>5</td>\n",
       "    </tr>\n",
       "    <tr>\n",
       "      <th>2098</th>\n",
       "      <td>credentials</td>\n",
       "      <td>3.74</td>\n",
       "      <td>0.45</td>\n",
       "      <td>11</td>\n",
       "    </tr>\n",
       "    <tr>\n",
       "      <th>2099</th>\n",
       "      <td>opponent</td>\n",
       "      <td>4.20</td>\n",
       "      <td>0.05</td>\n",
       "      <td>8</td>\n",
       "    </tr>\n",
       "    <tr>\n",
       "      <th>2100</th>\n",
       "      <td>analyst</td>\n",
       "      <td>4.03</td>\n",
       "      <td>0.10</td>\n",
       "      <td>7</td>\n",
       "    </tr>\n",
       "    <tr>\n",
       "      <th>2101</th>\n",
       "      <td>convince</td>\n",
       "      <td>4.26</td>\n",
       "      <td>0.05</td>\n",
       "      <td>8</td>\n",
       "    </tr>\n",
       "  </tbody>\n",
       "</table>\n",
       "<p>2102 rows × 4 columns</p>\n",
       "</div>"
      ],
      "text/plain": [
       "           tokens  frequency  comp_prob  length\n",
       "0          barren       3.40       0.40       6\n",
       "1        outcrops       0.00       0.55       8\n",
       "2        conflict       4.64       0.10       8\n",
       "3          flexed       0.00       0.40       6\n",
       "4      ambassador       4.35       0.15      10\n",
       "...           ...        ...        ...     ...\n",
       "2097        shore       4.33       0.10       5\n",
       "2098  credentials       3.74       0.45      11\n",
       "2099     opponent       4.20       0.05       8\n",
       "2100      analyst       4.03       0.10       7\n",
       "2101     convince       4.26       0.05       8\n",
       "\n",
       "[2102 rows x 4 columns]"
      ]
     },
     "execution_count": 20,
     "metadata": {},
     "output_type": "execute_result"
    }
   ],
   "source": [
    "df[\"length\"] = token_length_each\n",
    "df"
   ]
  },
  {
   "cell_type": "markdown",
   "id": "1205d2c3",
   "metadata": {},
   "source": [
    "### Provide the Pearson correlation of length and frequency with the probabilistic complexity label."
   ]
  },
  {
   "cell_type": "markdown",
   "id": "18fe3290",
   "metadata": {},
   "source": [
    "## Correlation"
   ]
  },
  {
   "cell_type": "code",
   "execution_count": 21,
   "id": "35047eb8",
   "metadata": {},
   "outputs": [
    {
     "data": {
      "text/html": [
       "<div>\n",
       "<style scoped>\n",
       "    .dataframe tbody tr th:only-of-type {\n",
       "        vertical-align: middle;\n",
       "    }\n",
       "\n",
       "    .dataframe tbody tr th {\n",
       "        vertical-align: top;\n",
       "    }\n",
       "\n",
       "    .dataframe thead th {\n",
       "        text-align: right;\n",
       "    }\n",
       "</style>\n",
       "<table border=\"1\" class=\"dataframe\">\n",
       "  <thead>\n",
       "    <tr style=\"text-align: right;\">\n",
       "      <th></th>\n",
       "      <th>frequency</th>\n",
       "      <th>comp_prob</th>\n",
       "      <th>length</th>\n",
       "    </tr>\n",
       "  </thead>\n",
       "  <tbody>\n",
       "    <tr>\n",
       "      <th>frequency</th>\n",
       "      <td>1.000000</td>\n",
       "      <td>-0.261876</td>\n",
       "      <td>0.015413</td>\n",
       "    </tr>\n",
       "    <tr>\n",
       "      <th>comp_prob</th>\n",
       "      <td>-0.261876</td>\n",
       "      <td>1.000000</td>\n",
       "      <td>0.286525</td>\n",
       "    </tr>\n",
       "    <tr>\n",
       "      <th>length</th>\n",
       "      <td>0.015413</td>\n",
       "      <td>0.286525</td>\n",
       "      <td>1.000000</td>\n",
       "    </tr>\n",
       "  </tbody>\n",
       "</table>\n",
       "</div>"
      ],
      "text/plain": [
       "           frequency  comp_prob    length\n",
       "frequency   1.000000  -0.261876  0.015413\n",
       "comp_prob  -0.261876   1.000000  0.286525\n",
       "length      0.015413   0.286525  1.000000"
      ]
     },
     "execution_count": 21,
     "metadata": {},
     "output_type": "execute_result"
    }
   ],
   "source": [
    "df.corr()"
   ]
  },
  {
   "cell_type": "code",
   "execution_count": 22,
   "id": "31e6c499",
   "metadata": {},
   "outputs": [
    {
     "data": {
      "text/plain": [
       "(-0.2618757110489934, 2.6503470469110677e-34)"
      ]
     },
     "execution_count": 22,
     "metadata": {},
     "output_type": "execute_result"
    }
   ],
   "source": [
    "from scipy.stats import pearsonr\n",
    "\n",
    "pearsonr(df['comp_prob'],df['frequency'])"
   ]
  },
  {
   "cell_type": "markdown",
   "id": "ed3ec488",
   "metadata": {},
   "source": [
    "### Provide 3 scatter plots with the probabilistic complexity on the y-axis. "
   ]
  },
  {
   "cell_type": "code",
   "execution_count": 23,
   "id": "79584243",
   "metadata": {},
   "outputs": [
    {
     "data": {
      "image/png": "[encoded data removed]",
      "text/plain": [
       "<Figure size 432x288 with 1 Axes>"
      ]
     },
     "metadata": {
      "needs_background": "light"
     },
     "output_type": "display_data"
    }
   ],
   "source": [
    "sns_plot = sns.scatterplot(x=\"length\", y=\"comp_prob\", data=df);\n",
    "plt.savefig('token_scatter.png')"
   ]
  },
  {
   "cell_type": "code",
   "execution_count": 24,
   "id": "ed343871",
   "metadata": {},
   "outputs": [
    {
     "data": {
      "image/png": "[encoded data removed]",
      "text/plain": [
       "<Figure size 432x288 with 1 Axes>"
      ]
     },
     "metadata": {
      "needs_background": "light"
     },
     "output_type": "display_data"
    }
   ],
   "source": [
    "sns.scatterplot(x=\"frequency\", y=\"comp_prob\", data=df);\n",
    "plt.savefig('freq_scatter.png')"
   ]
  },
  {
   "cell_type": "code",
   "execution_count": 25,
   "id": "1a0f548e",
   "metadata": {},
   "outputs": [
    {
     "name": "stdout",
     "output_type": "stream",
     "text": [
      "['NNP', 'NNS', 'NN', 'NN', 'NN', 'NN', 'NNS', 'NN', 'NN', 'NN']\n",
      "{'NNP': 1, 'NNS': 1, 'NN': 1, 'JJ': 1, 'VBG': 1, 'VB': 1, 'VBP': 1}\n"
     ]
    }
   ],
   "source": [
    "pos_tags_dict = {}\n",
    "pos_tags_list = []\n",
    "pos_tags_frequencies = Counter()\n",
    "value = 0\n",
    "\n",
    "for row in range(len(df)):\n",
    "    doc = nlp(df.loc[row, \"tokens\"])\n",
    "    for np in doc:\n",
    "        if np not in pos_tags_dict:\n",
    "            value = 1\n",
    "            pos_tags_list.append(np.tag_)\n",
    "            pos_tags_dict.update({np.tag_ : value})\n",
    "        else:\n",
    "            value += 1\n",
    "            pos_tags_dict.update({np.tag_ : value})\n",
    "            \n",
    "print(pos_tags_list[:10])\n",
    "print(pos_tags_dict)"
   ]
  },
  {
   "cell_type": "code",
   "execution_count": 26,
   "id": "84e03636",
   "metadata": {},
   "outputs": [
    {
     "name": "stdout",
     "output_type": "stream",
     "text": [
      "Counter({'NN': 1374030, 'NNS': 608374, 'NNP': 189843, 'VBG': 26794, 'JJ': 6211, 'VB': 4431, 'VBP': 570})\n"
     ]
    }
   ],
   "source": [
    "pos_tags_frequencies = Counter()\n",
    "pos_tags_list = []\n",
    "pos_tags_freq = []\n",
    "\n",
    "for row in range(len(df)):\n",
    "    doc = nlp(df.loc[row, \"tokens\"])\n",
    "    for np in doc:\n",
    "        if np.tag_ not in pos_tags_list:\n",
    "            pos_tags_freq.append((np.tag_))\n",
    "    pos_tags_frequencies.update(pos_tags_freq)\n",
    "    \n",
    "print(pos_tags_frequencies)\n",
    "# print(pos_tags_freq)"
   ]
  },
  {
   "cell_type": "code",
   "execution_count": 27,
   "id": "0147fe53",
   "metadata": {},
   "outputs": [
    {
     "name": "stdout",
     "output_type": "stream",
     "text": [
      "['NNP', 'NNS', 'NN', 'JJ', 'VBG', 'VB', 'VBP']\n"
     ]
    }
   ],
   "source": [
    "pos_tag_lst = list(pos_tags_frequencies)\n",
    "print(pos_tag_lst)"
   ]
  },
  {
   "cell_type": "code",
   "execution_count": 28,
   "id": "07a9ec99",
   "metadata": {},
   "outputs": [],
   "source": [
    "pos_tags_frequencies = [value for _, value in pos_tags_frequencies.most_common()]"
   ]
  },
  {
   "cell_type": "code",
   "execution_count": 29,
   "id": "3f07e637",
   "metadata": {},
   "outputs": [
    {
     "data": {
      "text/html": [
       "<div>\n",
       "<style scoped>\n",
       "    .dataframe tbody tr th:only-of-type {\n",
       "        vertical-align: middle;\n",
       "    }\n",
       "\n",
       "    .dataframe tbody tr th {\n",
       "        vertical-align: top;\n",
       "    }\n",
       "\n",
       "    .dataframe thead th {\n",
       "        text-align: right;\n",
       "    }\n",
       "</style>\n",
       "<table border=\"1\" class=\"dataframe\">\n",
       "  <thead>\n",
       "    <tr style=\"text-align: right;\">\n",
       "      <th></th>\n",
       "      <th>comp_prob</th>\n",
       "      <th>pos_tag</th>\n",
       "    </tr>\n",
       "  </thead>\n",
       "  <tbody>\n",
       "    <tr>\n",
       "      <th>0</th>\n",
       "      <td>0.40</td>\n",
       "      <td>NNP</td>\n",
       "    </tr>\n",
       "    <tr>\n",
       "      <th>1</th>\n",
       "      <td>0.55</td>\n",
       "      <td>NNS</td>\n",
       "    </tr>\n",
       "    <tr>\n",
       "      <th>2</th>\n",
       "      <td>0.10</td>\n",
       "      <td>NN</td>\n",
       "    </tr>\n",
       "    <tr>\n",
       "      <th>3</th>\n",
       "      <td>0.40</td>\n",
       "      <td>JJ</td>\n",
       "    </tr>\n",
       "    <tr>\n",
       "      <th>4</th>\n",
       "      <td>0.15</td>\n",
       "      <td>VBG</td>\n",
       "    </tr>\n",
       "    <tr>\n",
       "      <th>5</th>\n",
       "      <td>0.95</td>\n",
       "      <td>VB</td>\n",
       "    </tr>\n",
       "    <tr>\n",
       "      <th>6</th>\n",
       "      <td>0.35</td>\n",
       "      <td>VBP</td>\n",
       "    </tr>\n",
       "  </tbody>\n",
       "</table>\n",
       "</div>"
      ],
      "text/plain": [
       "   comp_prob pos_tag\n",
       "0       0.40     NNP\n",
       "1       0.55     NNS\n",
       "2       0.10      NN\n",
       "3       0.40      JJ\n",
       "4       0.15     VBG\n",
       "5       0.95      VB\n",
       "6       0.35     VBP"
      ]
     },
     "execution_count": 29,
     "metadata": {},
     "output_type": "execute_result"
    }
   ],
   "source": [
    "df_3 = pd.DataFrame()\n",
    "df_3['comp_prob'] = df['comp_prob'][:7]\n",
    "df_3['pos_tag'] = pos_tag_lst\n",
    "df_3.dropna()"
   ]
  },
  {
   "cell_type": "code",
   "execution_count": 30,
   "id": "296cec15",
   "metadata": {},
   "outputs": [
    {
     "data": {
      "image/png": "[encoded data removed]",
      "text/plain": [
       "<Figure size 432x288 with 1 Axes>"
      ]
     },
     "metadata": {
      "needs_background": "light"
     },
     "output_type": "display_data"
    }
   ],
   "source": [
    "sns.scatterplot(x=\"pos_tag\", y=\"comp_prob\", data=df_3);\n",
    "plt.savefig('postag_scatter.png')"
   ]
  }
 ],
 "metadata": {
  "kernelspec": {
   "display_name": "Python 3 (ipykernel)",
   "language": "python",
   "name": "python3"
  },
  "language_info": {
   "codemirror_mode": {
    "name": "ipython",
    "version": 3
   },
   "file_extension": ".py",
   "mimetype": "text/x-python",
   "name": "python",
   "nbconvert_exporter": "python",
   "pygments_lexer": "ipython3",
   "version": "3.9.12"
  }
 },
 "nbformat": 4,
 "nbformat_minor": 5
}
