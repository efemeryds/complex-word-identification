{
 "cells": [
  {
   "cell_type": "code",
   "execution_count": 2,
   "id": "38ab2381",
   "metadata": {},
   "outputs": [],
   "source": [
    "# Part A\n",
    "import nltk\n",
    "import spacy\n",
    "from collections import Counter\n",
    "nlp = spacy.load('en_core_web_sm')\n",
    "sentences_path = \"C:/Users/Nikita/OneDrive/Desktop/Course_Materials/NLP/Assignments/complex-word-identification/data/preprocessed/train/sentences.txt\"\n",
    "with open(sentences_path, encoding=\"utf8\") as sentences:\n",
    "    sentences_cont = sentences.read()\n",
    "    \n",
    "#print( sentences_cont)\n",
    "doc = nlp(sentences_cont)"
   ]
  },
  {
   "cell_type": "code",
   "execution_count": 3,
   "id": "b2d5d772",
   "metadata": {},
   "outputs": [
    {
     "name": "stdout",
     "output_type": "stream",
     "text": [
      "Number of tokens with newline character:  16130\n",
      "Number of tokens:  15477\n"
     ]
    }
   ],
   "source": [
    "# 1. Tokenization\n",
    "# Process the dataset using the spaCy package and extract the following information:\n",
    "# Number of tokens: 16130 or 15477 (not counting \"\\n\") or (82147?)\n",
    "count = 0\n",
    "for token in doc:\n",
    "    count += 1\n",
    "print(\"Number of tokens with newline character: \", count)\n",
    "\n",
    "tokens = [token for token in doc if token.text != \"\\n\"]\n",
    "num_tokens = len(tokens)\n",
    "print(\"Number of tokens: \", num_tokens)\n"
   ]
  },
  {
   "cell_type": "code",
   "execution_count": 4,
   "id": "d92c82af",
   "metadata": {},
   "outputs": [
    {
     "name": "stdout",
     "output_type": "stream",
     "text": [
      "Number of types:  3745\n"
     ]
    }
   ],
   "source": [
    "# Number of types: 3746 or 3745(not counting \"\\n\")\n",
    "types_list = []\n",
    "for token in tokens:\n",
    "    if token.text in types_list:\n",
    "        continue\n",
    "    else:\n",
    "        types_list.append(token.text)\n",
    "\n",
    "types = len(types_list)\n",
    "print(\"Number of types: \", types)"
   ]
  },
  {
   "cell_type": "code",
   "execution_count": 5,
   "id": "8740a91c",
   "metadata": {},
   "outputs": [
    {
     "name": "stdout",
     "output_type": "stream",
     "text": [
      "Number of words:  13242\n"
     ]
    }
   ],
   "source": [
    "# Number of words: 13242 (takes tokens without punctuation, words like \"isn't\" are count as 2 words)\n",
    "# Number of words: 13122 (without punctuation and \"'s\" or \"n't\")\n",
    "words = [token.text for token in doc if token.is_punct != True and token.text != '\\n'] #and token.text != \"'s\" and token.text != \"n't\"]\n",
    "num_words = len(words)\n",
    "print(\"Number of words: \", num_words)\n"
   ]
  },
  {
   "cell_type": "code",
   "execution_count": 6,
   "id": "d7c377c8",
   "metadata": {},
   "outputs": [
    {
     "name": "stdout",
     "output_type": "stream",
     "text": [
      "Number of sentences in doc:  718\n",
      "Avg. number of words per sentence:  18.44289693593315\n"
     ]
    }
   ],
   "source": [
    "# Average number of words per sentence: 10.765853658536585 or 10 (or ~ 11)\n",
    "# Number of sentences in doc: 1230\n",
    "sent_count = 0\n",
    "for sent in doc.sents:\n",
    "    #print(sent)\n",
    "    sent_count +=1\n",
    "print(\"Number of sentences in doc: \", sent_count)\n",
    "avg_words_per_sent = num_words/sent_count\n",
    "print(\"Avg. number of words per sentence: \", avg_words_per_sent)"
   ]
  },
  {
   "cell_type": "code",
   "execution_count": 7,
   "id": "faabacf0",
   "metadata": {},
   "outputs": [
    {
     "data": {
      "text/plain": [
       "718"
      ]
     },
     "execution_count": 7,
     "metadata": {},
     "output_type": "execute_result"
    }
   ],
   "source": [
    "len(list(doc.sents))"
   ]
  },
  {
   "cell_type": "code",
   "execution_count": 11,
   "id": "51c3ead7",
   "metadata": {},
   "outputs": [
    {
     "name": "stdout",
     "output_type": "stream",
     "text": [
      "Avg. word length:  4.905225796707446\n"
     ]
    }
   ],
   "source": [
    "# Average word length: 4.9\n",
    " \n",
    "avg_word_len = sum(len(word) for word in words)/len(words)\n",
    "print(\"Avg. word length: \",avg_word_len)\n",
    "\n",
    "# Provide the definition that you used to determine words:\n",
    "# "
   ]
  },
  {
   "cell_type": "code",
   "execution_count": 12,
   "id": "70781880",
   "metadata": {},
   "outputs": [],
   "source": [
    "# 2. Word Classes\n",
    "POS_tag_list = []\n",
    "for token in doc:\n",
    "    POS_tag_list.append(token.tag_)\n",
    "\n",
    "tag_list =[]\n",
    "for token.tag_ in POS_tag_list:\n",
    "    if token.tag_ in tag_list:\n",
    "        continue\n",
    "    else:\n",
    "        tag_list.append(token.tag_)\n",
    "\n",
    "#print(tag_list)\n",
    "x=0\n",
    "POS_count = []\n",
    "while x <= len(tag_list):\n",
    "    for token.tag_ in tag_list:\n",
    "        POS_count.append((token.tag_, POS_tag_list.count(token.tag_)))\n",
    "        x += 1\n",
    "#print(len(POS_count))\n",
    "POS_count.sort(reverse=True, key=lambda x:x[1])\n",
    "#print(POS_count)"
   ]
  },
  {
   "cell_type": "code",
   "execution_count": 16,
   "id": "bf850b59",
   "metadata": {},
   "outputs": [],
   "source": [
    "tag_count = Counter()\n",
    "for sent in doc.sents:\n",
    "    tags = []\n",
    "    for token in sent:\n",
    "        tags.append((token.tag_, token.pos_))\n",
    "    tag_count.update(tags)\n",
    "    \n",
    "#print(tag_count)"
   ]
  },
  {
   "cell_type": "code",
   "execution_count": 14,
   "id": "b158461b",
   "metadata": {},
   "outputs": [],
   "source": [
    "token_count = Counter()\n",
    "token_set = ['NN', 'NNP', 'IN', 'DT', 'JJ', 'NNS', ',', 'VBD', '.', '_SP', 'VBN', 'RB', 'CD']\n",
    "for sent in doc.sents:\n",
    "    tokens = []\n",
    "    for token in sent:\n",
    "        if token.tag_ in token_set:\n",
    "            tokens.append((token.tag_, token.text))\n",
    "    token_count.update(tokens)\n",
    "    \n",
    "#print(token_count)"
   ]
  },
  {
   "cell_type": "code",
   "execution_count": 23,
   "id": "087a95fc",
   "metadata": {},
   "outputs": [],
   "source": [
    "def n_grams(doc, tokens, n):\n",
    "    tokens = [token.text for token in doc if token.is_alpha]\n",
    "    ngram_list = [tokens[i:i+n] for i in range(len(token)-n+1)]\n",
    "    \n",
    "    return ngram_list"
   ]
  },
  {
   "cell_type": "code",
   "execution_count": 25,
   "id": "44a0a6a7",
   "metadata": {},
   "outputs": [
    {
     "name": "stdout",
     "output_type": "stream",
     "text": [
      "Counter()\n"
     ]
    }
   ],
   "source": [
    "bigrams = n_grams(doc,tokens,2)\n",
    "#bigram_count = Counter(bigrams)\n",
    "#\n",
    "print(Counter(str(elem) for elem in bigrams))"
   ]
  },
  {
   "cell_type": "code",
   "execution_count": 24,
   "id": "1de8ff68",
   "metadata": {},
   "outputs": [
    {
     "name": "stdout",
     "output_type": "stream",
     "text": [
      "[(\"['in', 'response', 'to']\", 7), (\"['Republican', 'Party', 'presidential']\", 6), (\"['local', 'time', 'UTC']\", 5), (\"['Mr', 'Justice', 'Green']\", 5), (\"['the', 'University', 'of']\", 4), (\"['is', 'due', 'to']\", 4), (\"['This', 'is', 'the']\", 4), (\"['Lin', 'and', 'Phyo']\", 4), (\"['in', 'a', 'statement']\", 4), (\"['the', 'Republican', 'Party']\", 4)]\n"
     ]
    }
   ],
   "source": [
    "#trigrams\n",
    "trigrams = n_grams(doc,tokens,3)\n",
    "print(Counter(str(elem) for elem in trigrams).most_common(10))"
   ]
  },
  {
   "cell_type": "code",
   "execution_count": 20,
   "id": "48485fb9",
   "metadata": {},
   "outputs": [],
   "source": [
    "def pos_grams(doc, tokens, n):\n",
    "    tokens = [token.pos_ for token in doc if token.is_alpha]\n",
    "    POSgram_list = [tokens[i:i+n] for i in range(len(tokens)-n+1)]\n",
    "    \n",
    "    return POSgram_list"
   ]
  },
  {
   "cell_type": "code",
   "execution_count": 21,
   "id": "8a6ea714",
   "metadata": {},
   "outputs": [
    {
     "name": "stdout",
     "output_type": "stream",
     "text": [
      "[(\"['DET', 'NOUN']\", 810), (\"['NOUN', 'ADP']\", 798), (\"['PROPN', 'PROPN']\", 720), (\"['ADJ', 'NOUN']\", 604), (\"['ADP', 'DET']\", 568), (\"['VERB', 'ADP']\", 460), (\"['NOUN', 'NOUN']\", 415), (\"['VERB', 'DET']\", 392), (\"['NOUN', 'VERB']\", 391), (\"['ADP', 'PROPN']\", 371)]\n"
     ]
    }
   ],
   "source": [
    "#POS bigrams\n",
    "POS_bigrams = pos_grams(doc,tokens,2)\n",
    "print(Counter(str(elem) for elem in POS_bigrams).most_common(10))"
   ]
  },
  {
   "cell_type": "code",
   "execution_count": 22,
   "id": "d2485c00",
   "metadata": {},
   "outputs": [
    {
     "name": "stdout",
     "output_type": "stream",
     "text": [
      "[(\"['ADP', 'DET', 'NOUN']\", 323), (\"['PROPN', 'PROPN', 'PROPN']\", 282), (\"['NOUN', 'ADP', 'DET']\", 277), (\"['VERB', 'DET', 'NOUN']\", 253), (\"['DET', 'NOUN', 'ADP']\", 238), (\"['DET', 'ADJ', 'NOUN']\", 203), (\"['NOUN', 'ADP', 'PROPN']\", 197), (\"['ADJ', 'NOUN', 'ADP']\", 184), (\"['VERB', 'ADP', 'DET']\", 168), (\"['NOUN', 'ADP', 'NOUN']\", 136)]\n"
     ]
    }
   ],
   "source": [
    "#POS trigrams\n",
    "POS_trigrams = pos_grams(doc,tokens,3)\n",
    "print(Counter(str(elem) for elem in POS_trigrams).most_common(10))"
   ]
  },
  {
   "cell_type": "code",
   "execution_count": null,
   "id": "3d058eb9",
   "metadata": {},
   "outputs": [],
   "source": [
    "# 4. Lemmatization\n"
   ]
  },
  {
   "cell_type": "code",
   "execution_count": null,
   "id": "d56639de",
   "metadata": {},
   "outputs": [],
   "source": [
    "# 5. Named Entity Recognition(NER)\n"
   ]
  }
 ],
 "metadata": {
  "kernelspec": {
   "display_name": "Python 3 (ipykernel)",
   "language": "python",
   "name": "python3"
  },
  "language_info": {
   "codemirror_mode": {
    "name": "ipython",
    "version": 3
   },
   "file_extension": ".py",
   "mimetype": "text/x-python",
   "name": "python",
   "nbconvert_exporter": "python",
   "pygments_lexer": "ipython3",
   "version": "3.8.8"
  }
 },
 "nbformat": 4,
 "nbformat_minor": 5
}
